{
  "cells": [
    {
      "cell_type": "code",
      "execution_count": null,
      "metadata": {
        "colab": {
          "base_uri": "https://localhost:8080/"
        },
        "id": "1bjq_aXPprgB",
        "outputId": "73ab10e7-2d9b-4c50-fe46-fb209d188139"
      },
      "outputs": [],
      "source": [
        "# 📦 Install contractions library (only needs to be done once per session)\n",
        "!pip install contractions\n",
        "\n",
        "import pandas as pd\n",
        "import numpy as np\n",
        "import re\n",
        "import string\n",
        "import contractions\n",
        "\n",
        "# ✅ Step 1: Load the dataset from Colab file system\n",
        "df = pd.read_csv(\n",
        "    \"/content/training_data.csv\",\n",
        "    encoding='latin-1',\n",
        "    header=None,\n",
        "    on_bad_lines='skip',\n",
        "    engine='python'  # 👈 more robust parsing\n",
        ")\n",
        "\n",
        "df.columns = ['target', 'ids', 'date', 'flag', 'user', 'text']\n",
        "\n",
        "# ✅ Step 2: Keep only 0 (negative) and 4 (positive) labels, convert 4 → 1\n",
        "df = df[df['target'].isin([0, 4])]\n",
        "df['target'] = df['target'].replace({4: 1})\n",
        "\n",
        "# ✅ Step 3: Define characters to KEEP (keep ! and ? for emotion)\n",
        "KEEP_CHARS = \"!?\"\n",
        "\n",
        "# Function to remove punctuation except for ! and ?\n",
        "def remove_unnecessary_punctuation(text):\n",
        "    unwanted = string.punctuation.translate(str.maketrans('', '', KEEP_CHARS))\n",
        "    return text.translate(str.maketrans('', '', unwanted))\n",
        "\n",
        "# ✅ Step 4: Preprocess tweets\n",
        "def preprocess_text(text):\n",
        "    text = text.lower()\n",
        "    text = contractions.fix(text)  # expand contractions\n",
        "    text = re.sub(r'@\\w+', '', text)  # remove mentions\n",
        "    text = re.sub(r\"http\\S+|www.\\S+\", \"\", text)  # remove URLs\n",
        "    text = re.sub(r'\"', '', text)  # remove double quotes\n",
        "    text = remove_unnecessary_punctuation(text)\n",
        "    text = re.sub(r'\\s+', ' ', text).strip()  # normalize whitespace\n",
        "    return text\n",
        "\n",
        "# Apply preprocessing to text\n",
        "df['text'] = df['text'].astype(str).apply(preprocess_text)\n",
        "\n",
        "# ✅ Step 5: Retain only necessary columns\n",
        "df = df[['text', 'target']]\n",
        "\n",
        "# ✅ Step 6: Shuffle and split into 3 clients and 1 test set\n",
        "df = df.sample(frac=1, random_state=42).reset_index(drop=True)\n",
        "split_dfs = np.array_split(df, 4)\n",
        "\n",
        "# ✅ Step 7: Save the splits\n",
        "split_dfs[0].to_csv(\"/content/client_1_data.csv\", index=False)\n",
        "split_dfs[1].to_csv(\"/content/client_2_data.csv\", index=False)\n",
        "split_dfs[2].to_csv(\"/content/client_3_data.csv\", index=False)\n",
        "split_dfs[3].to_csv(\"/content/test_data.csv\", index=False)\n",
        "\n",
        "print(\"✅ Files saved: client_1_data.csv, client_2_data.csv, client_3_data.csv, test_data.csv\")\n"
      ]
    },
    {
      "cell_type": "code",
      "execution_count": 4,
      "metadata": {
        "colab": {
          "base_uri": "https://localhost:8080/",
          "height": 17
        },
        "id": "_ldvkt38p1Ga",
        "outputId": "97666c43-d38c-425f-b8b3-d3bdbb806348"
      },
      "outputs": [
        {
          "data": {
            "application/javascript": "\n    async function download(id, filename, size) {\n      if (!google.colab.kernel.accessAllowed) {\n        return;\n      }\n      const div = document.createElement('div');\n      const label = document.createElement('label');\n      label.textContent = `Downloading \"${filename}\": `;\n      div.appendChild(label);\n      const progress = document.createElement('progress');\n      progress.max = size;\n      div.appendChild(progress);\n      document.body.appendChild(div);\n\n      const buffers = [];\n      let downloaded = 0;\n\n      const channel = await google.colab.kernel.comms.open(id);\n      // Send a message to notify the kernel that we're ready.\n      channel.send({})\n\n      for await (const message of channel.messages) {\n        // Send a message to notify the kernel that we're ready.\n        channel.send({})\n        if (message.buffers) {\n          for (const buffer of message.buffers) {\n            buffers.push(buffer);\n            downloaded += buffer.byteLength;\n            progress.value = downloaded;\n          }\n        }\n      }\n      const blob = new Blob(buffers, {type: 'application/binary'});\n      const a = document.createElement('a');\n      a.href = window.URL.createObjectURL(blob);\n      a.download = filename;\n      div.appendChild(a);\n      a.click();\n      div.remove();\n    }\n  ",
            "text/plain": [
              "<IPython.core.display.Javascript object>"
            ]
          },
          "metadata": {},
          "output_type": "display_data"
        },
        {
          "data": {
            "application/javascript": "download(\"download_a9e3311e-ab1c-4833-88f8-6e90ae4a651c\", \"client_1_data.csv\", 26982913)",
            "text/plain": [
              "<IPython.core.display.Javascript object>"
            ]
          },
          "metadata": {},
          "output_type": "display_data"
        },
        {
          "data": {
            "application/javascript": "\n    async function download(id, filename, size) {\n      if (!google.colab.kernel.accessAllowed) {\n        return;\n      }\n      const div = document.createElement('div');\n      const label = document.createElement('label');\n      label.textContent = `Downloading \"${filename}\": `;\n      div.appendChild(label);\n      const progress = document.createElement('progress');\n      progress.max = size;\n      div.appendChild(progress);\n      document.body.appendChild(div);\n\n      const buffers = [];\n      let downloaded = 0;\n\n      const channel = await google.colab.kernel.comms.open(id);\n      // Send a message to notify the kernel that we're ready.\n      channel.send({})\n\n      for await (const message of channel.messages) {\n        // Send a message to notify the kernel that we're ready.\n        channel.send({})\n        if (message.buffers) {\n          for (const buffer of message.buffers) {\n            buffers.push(buffer);\n            downloaded += buffer.byteLength;\n            progress.value = downloaded;\n          }\n        }\n      }\n      const blob = new Blob(buffers, {type: 'application/binary'});\n      const a = document.createElement('a');\n      a.href = window.URL.createObjectURL(blob);\n      a.download = filename;\n      div.appendChild(a);\n      a.click();\n      div.remove();\n    }\n  ",
            "text/plain": [
              "<IPython.core.display.Javascript object>"
            ]
          },
          "metadata": {},
          "output_type": "display_data"
        },
        {
          "data": {
            "application/javascript": "download(\"download_676630ee-1ddf-4cc1-a482-a3a10d9043b3\", \"client_2_data.csv\", 26993624)",
            "text/plain": [
              "<IPython.core.display.Javascript object>"
            ]
          },
          "metadata": {},
          "output_type": "display_data"
        },
        {
          "data": {
            "application/javascript": "\n    async function download(id, filename, size) {\n      if (!google.colab.kernel.accessAllowed) {\n        return;\n      }\n      const div = document.createElement('div');\n      const label = document.createElement('label');\n      label.textContent = `Downloading \"${filename}\": `;\n      div.appendChild(label);\n      const progress = document.createElement('progress');\n      progress.max = size;\n      div.appendChild(progress);\n      document.body.appendChild(div);\n\n      const buffers = [];\n      let downloaded = 0;\n\n      const channel = await google.colab.kernel.comms.open(id);\n      // Send a message to notify the kernel that we're ready.\n      channel.send({})\n\n      for await (const message of channel.messages) {\n        // Send a message to notify the kernel that we're ready.\n        channel.send({})\n        if (message.buffers) {\n          for (const buffer of message.buffers) {\n            buffers.push(buffer);\n            downloaded += buffer.byteLength;\n            progress.value = downloaded;\n          }\n        }\n      }\n      const blob = new Blob(buffers, {type: 'application/binary'});\n      const a = document.createElement('a');\n      a.href = window.URL.createObjectURL(blob);\n      a.download = filename;\n      div.appendChild(a);\n      a.click();\n      div.remove();\n    }\n  ",
            "text/plain": [
              "<IPython.core.display.Javascript object>"
            ]
          },
          "metadata": {},
          "output_type": "display_data"
        },
        {
          "data": {
            "application/javascript": "download(\"download_f63f8bed-5402-4b13-9c05-0c8c675bec13\", \"client_3_data.csv\", 27016798)",
            "text/plain": [
              "<IPython.core.display.Javascript object>"
            ]
          },
          "metadata": {},
          "output_type": "display_data"
        },
        {
          "data": {
            "application/javascript": "\n    async function download(id, filename, size) {\n      if (!google.colab.kernel.accessAllowed) {\n        return;\n      }\n      const div = document.createElement('div');\n      const label = document.createElement('label');\n      label.textContent = `Downloading \"${filename}\": `;\n      div.appendChild(label);\n      const progress = document.createElement('progress');\n      progress.max = size;\n      div.appendChild(progress);\n      document.body.appendChild(div);\n\n      const buffers = [];\n      let downloaded = 0;\n\n      const channel = await google.colab.kernel.comms.open(id);\n      // Send a message to notify the kernel that we're ready.\n      channel.send({})\n\n      for await (const message of channel.messages) {\n        // Send a message to notify the kernel that we're ready.\n        channel.send({})\n        if (message.buffers) {\n          for (const buffer of message.buffers) {\n            buffers.push(buffer);\n            downloaded += buffer.byteLength;\n            progress.value = downloaded;\n          }\n        }\n      }\n      const blob = new Blob(buffers, {type: 'application/binary'});\n      const a = document.createElement('a');\n      a.href = window.URL.createObjectURL(blob);\n      a.download = filename;\n      div.appendChild(a);\n      a.click();\n      div.remove();\n    }\n  ",
            "text/plain": [
              "<IPython.core.display.Javascript object>"
            ]
          },
          "metadata": {},
          "output_type": "display_data"
        },
        {
          "data": {
            "application/javascript": "download(\"download_4298e7f5-84aa-4491-967c-ed6930c7f55c\", \"test_data.csv\", 26935414)",
            "text/plain": [
              "<IPython.core.display.Javascript object>"
            ]
          },
          "metadata": {},
          "output_type": "display_data"
        }
      ],
      "source": [
        "from google.colab import files\n",
        "files.download(\"/content/client_1_data.csv\")\n",
        "files.download(\"/content/client_2_data.csv\")\n",
        "files.download(\"/content/client_3_data.csv\")\n",
        "files.download(\"/content/test_data.csv\")"
      ]
    }
  ],
  "metadata": {
    "colab": {
      "provenance": []
    },
    "kernelspec": {
      "display_name": "Python 3",
      "name": "python3"
    },
    "language_info": {
      "name": "python"
    }
  },
  "nbformat": 4,
  "nbformat_minor": 0
}
